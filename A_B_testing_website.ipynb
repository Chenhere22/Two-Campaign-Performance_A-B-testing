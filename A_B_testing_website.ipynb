{
  "nbformat": 4,
  "nbformat_minor": 0,
  "metadata": {
    "colab": {
      "provenance": [],
      "authorship_tag": "ABX9TyO4mUJ7ShZKx0UAN7Ijmh5C",
      "include_colab_link": true
    },
    "kernelspec": {
      "name": "python3",
      "display_name": "Python 3"
    },
    "language_info": {
      "name": "python"
    }
  },
  "cells": [
    {
      "cell_type": "markdown",
      "metadata": {
        "id": "view-in-github",
        "colab_type": "text"
      },
      "source": [
        "<a href=\"https://colab.research.google.com/github/Chenhere22/Two-Campaigns-Performance_A-B-testing/blob/main/A_B_testing_website.ipynb\" target=\"_parent\"><img src=\"https://colab.research.google.com/assets/colab-badge.svg\" alt=\"Open In Colab\"/></a>"
      ]
    },
    {
      "cell_type": "code",
      "execution_count": 27,
      "metadata": {
        "id": "hoDkBLSQvrIV"
      },
      "outputs": [],
      "source": [
        "import pandas as pd\n",
        "import numpy as np\n",
        "import matplotlib.pyplot as plt\n",
        "import seaborn as sns\n",
        "import scipy.stats as stats\n"
      ]
    },
    {
      "cell_type": "code",
      "source": [
        "control_df=pd.read_csv('/content/control_group.csv', sep=';')\n",
        "test_df=pd.read_csv('/content/test_group.csv', sep=';')"
      ],
      "metadata": {
        "id": "gRYBLTV4v7Ld"
      },
      "execution_count": 28,
      "outputs": []
    },
    {
      "cell_type": "markdown",
      "source": [
        "Find null and fill in with median"
      ],
      "metadata": {
        "id": "jX5iNw8d84tW"
      }
    },
    {
      "cell_type": "code",
      "source": [
        "test_df.isna().sum()\n",
        "control_df.isna().sum()"
      ],
      "metadata": {
        "colab": {
          "base_uri": "https://localhost:8080/",
          "height": 398
        },
        "id": "p3YSDylmwmnu",
        "outputId": "61f9d37b-66be-4113-d75b-7c648d021488"
      },
      "execution_count": 37,
      "outputs": [
        {
          "output_type": "execute_result",
          "data": {
            "text/plain": [
              "Campaign Name          0\n",
              "Date                   0\n",
              "Spend [USD]            0\n",
              "# of Impressions       0\n",
              "Reach                  1\n",
              "# of Website Clicks    1\n",
              "# of Searches          1\n",
              "# of View Content      1\n",
              "# of Add to Cart       1\n",
              "# of Purchase          0\n",
              "dtype: int64"
            ],
            "text/html": [
              "<div>\n",
              "<style scoped>\n",
              "    .dataframe tbody tr th:only-of-type {\n",
              "        vertical-align: middle;\n",
              "    }\n",
              "\n",
              "    .dataframe tbody tr th {\n",
              "        vertical-align: top;\n",
              "    }\n",
              "\n",
              "    .dataframe thead th {\n",
              "        text-align: right;\n",
              "    }\n",
              "</style>\n",
              "<table border=\"1\" class=\"dataframe\">\n",
              "  <thead>\n",
              "    <tr style=\"text-align: right;\">\n",
              "      <th></th>\n",
              "      <th>0</th>\n",
              "    </tr>\n",
              "  </thead>\n",
              "  <tbody>\n",
              "    <tr>\n",
              "      <th>Campaign Name</th>\n",
              "      <td>0</td>\n",
              "    </tr>\n",
              "    <tr>\n",
              "      <th>Date</th>\n",
              "      <td>0</td>\n",
              "    </tr>\n",
              "    <tr>\n",
              "      <th>Spend [USD]</th>\n",
              "      <td>0</td>\n",
              "    </tr>\n",
              "    <tr>\n",
              "      <th># of Impressions</th>\n",
              "      <td>0</td>\n",
              "    </tr>\n",
              "    <tr>\n",
              "      <th>Reach</th>\n",
              "      <td>1</td>\n",
              "    </tr>\n",
              "    <tr>\n",
              "      <th># of Website Clicks</th>\n",
              "      <td>1</td>\n",
              "    </tr>\n",
              "    <tr>\n",
              "      <th># of Searches</th>\n",
              "      <td>1</td>\n",
              "    </tr>\n",
              "    <tr>\n",
              "      <th># of View Content</th>\n",
              "      <td>1</td>\n",
              "    </tr>\n",
              "    <tr>\n",
              "      <th># of Add to Cart</th>\n",
              "      <td>1</td>\n",
              "    </tr>\n",
              "    <tr>\n",
              "      <th># of Purchase</th>\n",
              "      <td>0</td>\n",
              "    </tr>\n",
              "  </tbody>\n",
              "</table>\n",
              "</div><br><label><b>dtype:</b> int64</label>"
            ]
          },
          "metadata": {},
          "execution_count": 37
        }
      ]
    },
    {
      "cell_type": "code",
      "source": [
        "control_df.fillna(control_df.select_dtypes(include=['number']).median(), inplace=True)\n"
      ],
      "metadata": {
        "id": "6KNGkUUr8W3q"
      },
      "execution_count": 39,
      "outputs": []
    },
    {
      "cell_type": "markdown",
      "source": [
        "Metrics: Purchase"
      ],
      "metadata": {
        "id": "7AgNpzLj1cpv"
      }
    },
    {
      "cell_type": "code",
      "source": [
        "control_purchases = control_df['# of Purchase']\n",
        "test_purchases = test_df['# of Purchase']"
      ],
      "metadata": {
        "id": "IfHiTE4iwlUD"
      },
      "execution_count": 31,
      "outputs": []
    },
    {
      "cell_type": "code",
      "source": [
        "t_stat_purchases, p_value_purchases = stats.ttest_ind(control_purchases, test_purchases)\n",
        "print(\"t-statistic:\", t_stat_purchases)\n",
        "print(\"p-value:\", p_value_purchases)"
      ],
      "metadata": {
        "colab": {
          "base_uri": "https://localhost:8080/"
        },
        "id": "XiQL2HWf1mGP",
        "outputId": "321828e8-1b3d-411d-b24b-454855803992"
      },
      "execution_count": 32,
      "outputs": [
        {
          "output_type": "stream",
          "name": "stdout",
          "text": [
            "t-statistic: 0.01638380705469325\n",
            "p-value: 0.9869844280920268\n"
          ]
        }
      ]
    },
    {
      "cell_type": "markdown",
      "source": [
        "Metrics: Impression"
      ],
      "metadata": {
        "id": "zKNwI8RN5E4_"
      }
    },
    {
      "cell_type": "code",
      "source": [
        "test_impressions=test_df['# of Impressions']\n",
        "control_impressions = control_df['# of Impressions']"
      ],
      "metadata": {
        "id": "TLviw5SL5KB-"
      },
      "execution_count": 34,
      "outputs": []
    },
    {
      "cell_type": "code",
      "source": [
        "t_stat_impressions, p_value_impressions = stats.ttest_ind(control_impressions, test_impressions)\n",
        "print(\"Impressions t-statistic:\", t_stat_impressions)\n",
        "print(\"p-value:\", p_value_impressions)"
      ],
      "metadata": {
        "colab": {
          "base_uri": "https://localhost:8080/"
        },
        "id": "tjZ6_JCm5TXQ",
        "outputId": "d936e15e-8de7-42dc-ff62-69c7155157cf"
      },
      "execution_count": 36,
      "outputs": [
        {
          "output_type": "stream",
          "name": "stdout",
          "text": [
            "Impressions t-statistic: 4.986991949145323\n",
            "p-value: 5.889238456479816e-06\n"
          ]
        }
      ]
    },
    {
      "cell_type": "markdown",
      "source": [
        "Metrics: Clicks"
      ],
      "metadata": {
        "id": "JDrkPISE9lFp"
      }
    },
    {
      "cell_type": "code",
      "source": [
        "test_clicks=test_df['# of Website Clicks']\n",
        "control_clicks=control_df['# of Website Clicks']\n",
        "t_stat_clicks, p_value_clicks = stats.ttest_ind(control_clicks, test_clicks)\n",
        "print(\"Clicks t-statistic:\", t_stat_clicks)\n",
        "print(\"p-value:\", p_value_clicks)"
      ],
      "metadata": {
        "colab": {
          "base_uri": "https://localhost:8080/"
        },
        "id": "HopAkBNB9olW",
        "outputId": "c19d7546-e3e4-497f-d7d7-029936c55805"
      },
      "execution_count": 40,
      "outputs": [
        {
          "output_type": "stream",
          "name": "stdout",
          "text": [
            "Clicks t-statistic: -1.611568094917984\n",
            "p-value: 0.11248505059092864\n"
          ]
        }
      ]
    },
    {
      "cell_type": "markdown",
      "source": [
        "Metrics: Searches"
      ],
      "metadata": {
        "id": "fqTzNq0g-Zx8"
      }
    },
    {
      "cell_type": "code",
      "source": [
        "test_searches=test_df['# of Searches']\n",
        "control_searches=control_df['# of Searches']\n",
        "t_stat_searches, p_value_searches = stats.ttest_ind(control_searches, test_searches)\n",
        "print(\"Clicks t-statistic:\", t_stat_searches)\n",
        "print(\"p-value:\", p_value_searches)"
      ],
      "metadata": {
        "colab": {
          "base_uri": "https://localhost:8080/"
        },
        "id": "Ew-imn3p-iE5",
        "outputId": "d781126b-8fa1-4a93-fbbd-6fe58931c2fd"
      },
      "execution_count": 42,
      "outputs": [
        {
          "output_type": "stream",
          "name": "stdout",
          "text": [
            "Clicks t-statistic: -1.1235887075031887\n",
            "p-value: 0.2658167131206946\n"
          ]
        }
      ]
    },
    {
      "cell_type": "markdown",
      "source": [
        "Metrics: Add to Cart"
      ],
      "metadata": {
        "id": "cTCBkdCa-7bM"
      }
    },
    {
      "cell_type": "code",
      "source": [
        "test_add_to_cart=test_df['# of Add to Cart']\n",
        "control_add_to_cart=control_df['# of Add to Cart']\n",
        "t_stat_cart,p_value_chart=stats.ttest_ind(control_add_to_cart, test_add_to_cart)\n",
        "print(\"Add to chart t-statistic:\", t_stat_cart)\n",
        "print(\"p-value:\", p_value_chart)"
      ],
      "metadata": {
        "colab": {
          "base_uri": "https://localhost:8080/"
        },
        "id": "nivqGup9_DiE",
        "outputId": "5d87d2cd-4d46-4781-eeb4-af0b1ddfc85f"
      },
      "execution_count": 43,
      "outputs": [
        {
          "output_type": "stream",
          "name": "stdout",
          "text": [
            "Add to chart t-statistic: 4.336005165165246\n",
            "p-value: 5.8568346002878074e-05\n"
          ]
        }
      ]
    },
    {
      "cell_type": "markdown",
      "source": [
        "# Machine learning"
      ],
      "metadata": {
        "id": "pTtilyvc_8rD"
      }
    },
    {
      "cell_type": "markdown",
      "source": [
        "ML 1: Random Forest"
      ],
      "metadata": {
        "id": "eou8zm_eAS_R"
      }
    },
    {
      "cell_type": "code",
      "source": [
        "import pandas as pd\n",
        "from scipy import stats\n",
        "from sklearn.model_selection import train_test_split\n",
        "from xgboost import XGBClassifier\n",
        "from sklearn.metrics import accuracy_score, confusion_matrix, classification_report\n",
        "\n",
        "# Combine control and test data for machine learning purposes\n",
        "control_df['Group'] = 0  # Label control group as 0\n",
        "test_df['Group'] = 1  # Label test group as 1\n",
        "data = pd.concat([control_df, test_df], axis=0)\n",
        "\n",
        "# Fill missing values in numeric columns with the median value\n",
        "data.fillna(data.select_dtypes(include=['number']).median(), inplace=True)\n",
        "\n",
        "# Feature selection\n",
        "# Rename columns to remove disallowed characters\n",
        "data.rename(columns={\n",
        "    'Spend [USD]': 'Spend_USD',\n",
        "    '# of Impressions': 'Num_Impressions',\n",
        "    '# of Website Clicks': 'Num_Website_Clicks',\n",
        "    '# of Searches': 'Num_Searches',\n",
        "    '# of View Content': 'Num_View_Content',\n",
        "    '# of Add to Cart': 'Num_Add_to_Cart'\n",
        "}, inplace=True)\n",
        "\n",
        "# Update the features list to match the new column names\n",
        "features = [\n",
        "    'Spend_USD', 'Num_Impressions', 'Reach', 'Num_Website_Clicks',\n",
        "    'Num_Searches', 'Num_View_Content', 'Num_Add_to_Cart'\n",
        "]\n",
        "X = data[features]\n",
        "y = data['Group']\n",
        "\n",
        "# Split the data into training and testing sets\n",
        "X_train, X_test, y_train, y_test = train_test_split(X, y, test_size=0.3, random_state=42)\n",
        "\n",
        "# Train a Random Forest Classifier\n",
        "rf = RandomForestClassifier(n_estimators=100, random_state=42)\n",
        "rf.fit(X_train, y_train)\n",
        "\n",
        "# Make predictions\n",
        "y_pred = rf.predict(X_test)\n",
        "\n",
        "# Evaluate the model\n",
        "accuracy = accuracy_score(y_test, y_pred)\n",
        "conf_matrix = confusion_matrix(y_test, y_pred)\n",
        "report = classification_report(y_test, y_pred)\n",
        "\n",
        "print(f\"Accuracy: {accuracy}\")\n",
        "print(f\"Confusion Matrix:\\n{conf_matrix}\")\n",
        "print(f\"Classification Report:\\n{report}\")\n"
      ],
      "metadata": {
        "colab": {
          "base_uri": "https://localhost:8080/"
        },
        "id": "KVxsCSZLAAL5",
        "outputId": "2e213f7e-a01d-4794-f552-41aec1a55bee"
      },
      "execution_count": 56,
      "outputs": [
        {
          "output_type": "stream",
          "name": "stdout",
          "text": [
            "Accuracy: 0.8333333333333334\n",
            "Confusion Matrix:\n",
            "[[7 1]\n",
            " [2 8]]\n",
            "Classification Report:\n",
            "              precision    recall  f1-score   support\n",
            "\n",
            "           0       0.78      0.88      0.82         8\n",
            "           1       0.89      0.80      0.84        10\n",
            "\n",
            "    accuracy                           0.83        18\n",
            "   macro avg       0.83      0.84      0.83        18\n",
            "weighted avg       0.84      0.83      0.83        18\n",
            "\n"
          ]
        }
      ]
    },
    {
      "cell_type": "markdown",
      "source": [
        "ML 2: XGBoost"
      ],
      "metadata": {
        "id": "S_5wK3AJL4MQ"
      }
    },
    {
      "cell_type": "code",
      "source": [
        "# Train an XGBoost Classifier\n",
        "xgb_model = XGBClassifier(n_estimators=100, random_state=42)\n",
        "xgb_model.fit(X_train, y_train)\n",
        "\n",
        "# Make predictions\n",
        "y_pred = xgb_model.predict(X_test)\n",
        "\n",
        "# Evaluate the model\n",
        "accuracy = accuracy_score(y_test, y_pred)\n",
        "conf_matrix = confusion_matrix(y_test, y_pred)\n",
        "report = classification_report(y_test, y_pred)\n",
        "\n",
        "print(f\"Accuracy: {accuracy}\")\n",
        "print(f\"Confusion Matrix:\\n{conf_matrix}\")\n",
        "print(f\"Classification Report:\\n{report}\")"
      ],
      "metadata": {
        "colab": {
          "base_uri": "https://localhost:8080/"
        },
        "id": "4A3PcVImL3YM",
        "outputId": "11246551-a21c-434e-ab1f-e4884a771227"
      },
      "execution_count": 57,
      "outputs": [
        {
          "output_type": "stream",
          "name": "stdout",
          "text": [
            "Accuracy: 0.8333333333333334\n",
            "Confusion Matrix:\n",
            "[[8 0]\n",
            " [3 7]]\n",
            "Classification Report:\n",
            "              precision    recall  f1-score   support\n",
            "\n",
            "           0       0.73      1.00      0.84         8\n",
            "           1       1.00      0.70      0.82        10\n",
            "\n",
            "    accuracy                           0.83        18\n",
            "   macro avg       0.86      0.85      0.83        18\n",
            "weighted avg       0.88      0.83      0.83        18\n",
            "\n"
          ]
        }
      ]
    },
    {
      "cell_type": "markdown",
      "source": [],
      "metadata": {
        "id": "qV1BiXcOL_3z"
      }
    },
    {
      "cell_type": "code",
      "source": [
        "XGBoost has better performance than Random Forest."
      ],
      "metadata": {
        "id": "3_mGz_VpMAg0"
      },
      "execution_count": null,
      "outputs": []
    }
  ]
}